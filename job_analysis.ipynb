{
 "metadata": {
  "name": "job_analysis"
 },
 "nbformat": 3,
 "nbformat_minor": 0,
 "worksheets": [
  {
   "cells": [
    {
     "cell_type": "code",
     "collapsed": false,
     "input": [
      "import nltk, re\n",
      "from nltk.corpus import stopwords\n",
      "import pandas"
     ],
     "language": "python",
     "metadata": {},
     "outputs": [],
     "prompt_number": 59
    },
    {
     "cell_type": "code",
     "collapsed": false,
     "input": [
      "def isWord(word):\n",
      "    \"\"\"\n",
      "    return: True if word is an english word, False otherwise\n",
      "    params:\n",
      "            word: string | word to check\n",
      "    \"\"\"\n",
      "    if nltk.corpus.wordnet.synsets( word ):\n",
      "        return True\n",
      "    else: return False"
     ],
     "language": "python",
     "metadata": {},
     "outputs": [
      {
       "output_type": "stream",
       "stream": "stdout",
       "text": [
        "True\n"
       ]
      }
     ],
     "prompt_number": 75
    },
    {
     "cell_type": "code",
     "collapsed": false,
     "input": [
      "def removeNonWords(ld):\n",
      "    \"\"\"\n",
      "    \"\"\"\n",
      "    result = []\n",
      "    for i in range(len(ld)):\n",
      "        result.append( [w for w in ld[i] if isWord(w)] )\n",
      "    return result"
     ],
     "language": "python",
     "metadata": {},
     "outputs": [],
     "prompt_number": 132
    },
    {
     "cell_type": "code",
     "collapsed": false,
     "input": [
      "def removeStopwords(text):\n",
      "    \"\"\"\n",
      "    text: list[string]  | list of job posting descriptions\n",
      "    \"\"\"\n",
      "    # get list of stopwords\n",
      "    stops = stopwords.words('english')\n",
      "    \n",
      "    result = []\n",
      "    for i in range(len(text)):\n",
      "\n",
      "        # split job posting into list of words\n",
      "        jd = text[i].split()\n",
      "        \n",
      "        # remove the stopwords and lowercase everything\n",
      "        result.append( [w.lower() for w in jd if w.lower() not in stops] )\n",
      "    \n",
      "    return result"
     ],
     "language": "python",
     "metadata": {},
     "outputs": [],
     "prompt_number": 133
    },
    {
     "cell_type": "code",
     "collapsed": false,
     "input": [],
     "language": "python",
     "metadata": {},
     "outputs": [],
     "prompt_number": 133
    },
    {
     "cell_type": "code",
     "collapsed": false,
     "input": [
      "def jdClean(ld):\n",
      "    \"\"\"\n",
      "    \"\"\"\n",
      "    result = []\n",
      "    for i in range(len(ld)):\n",
      "        result.append([])\n",
      "        desc = ld[i]\n",
      "        for j in range(len(desc)):\n",
      "            # remove puncuation\n",
      "            desc[j] = re.sub('[^A-Za-z0-9\\s\\+\\#-]+', '', desc[j])\n",
      "            # remove pure numbers\n",
      "            desc[j] = re.sub(r'\\s\\d+\\s', '', desc[j])\n",
      "            # don't append single letter words\n",
      "            if len(desc[j]) > 1:\n",
      "                result[i].append( desc[j] )\n",
      "    return result\n",
      "            "
     ],
     "language": "python",
     "metadata": {},
     "outputs": [],
     "prompt_number": 134
    },
    {
     "cell_type": "code",
     "collapsed": false,
     "input": [
      "from collections import defaultdict\n",
      "\n",
      "def getCounts(ld):\n",
      "    \"\"\"\n",
      "    \"\"\"\n",
      "    d = defaultdict(int)\n",
      "    for desc in ld:\n",
      "        for w in desc:\n",
      "            d[w] += 1\n",
      "    return d"
     ],
     "language": "python",
     "metadata": {},
     "outputs": [],
     "prompt_number": 135
    },
    {
     "cell_type": "code",
     "collapsed": false,
     "input": [
      "#df = pandas.read_csv(\"/Users/square/Desktop/job/Train_rev1.csv\")\n",
      "#df = pandas.read_csv(\"head.csv\")\n",
      "df = pandas.read_csv(\"Train_rev1.csv\")\n",
      "\n",
      "ld = df.FullDescription.values\n",
      "#ld = ld[:100]\n",
      "\n",
      "ld = removeStopwords(ld)\n",
      "\n",
      "ld = jdClean(ld)\n",
      "\n",
      "ld = removeNonWords(ld)\n"
     ],
     "language": "python",
     "metadata": {},
     "outputs": [
      {
       "ename": "Exception",
       "evalue": "File Train_rev1.csv does not exist",
       "output_type": "pyerr",
       "traceback": [
        "\u001b[0;31m---------------------------------------------------------------------------\u001b[0m\n\u001b[0;31mException\u001b[0m                                 Traceback (most recent call last)",
        "\u001b[0;32m<ipython-input-148-483ad33fcadc>\u001b[0m in \u001b[0;36m<module>\u001b[0;34m()\u001b[0m\n\u001b[1;32m      1\u001b[0m \u001b[0;31m#df = pandas.read_csv(\"/Users/square/Desktop/job/Train_rev1.csv\")\u001b[0m\u001b[0;34m\u001b[0m\u001b[0;34m\u001b[0m\u001b[0m\n\u001b[1;32m      2\u001b[0m \u001b[0;31m#df = pandas.read_csv(\"head.csv\")\u001b[0m\u001b[0;34m\u001b[0m\u001b[0;34m\u001b[0m\u001b[0m\n\u001b[0;32m----> 3\u001b[0;31m \u001b[0mdf\u001b[0m \u001b[0;34m=\u001b[0m \u001b[0mpandas\u001b[0m\u001b[0;34m.\u001b[0m\u001b[0mread_csv\u001b[0m\u001b[0;34m(\u001b[0m\u001b[0;34m\"Train_rev1.csv\"\u001b[0m\u001b[0;34m)\u001b[0m\u001b[0;34m\u001b[0m\u001b[0m\n\u001b[0m\u001b[1;32m      4\u001b[0m \u001b[0;34m\u001b[0m\u001b[0m\n\u001b[1;32m      5\u001b[0m \u001b[0mld\u001b[0m \u001b[0;34m=\u001b[0m \u001b[0mdf\u001b[0m\u001b[0;34m.\u001b[0m\u001b[0mFullDescription\u001b[0m\u001b[0;34m.\u001b[0m\u001b[0mvalues\u001b[0m\u001b[0;34m\u001b[0m\u001b[0m\n",
        "\u001b[0;32m/Library/Python/2.7/site-packages/pandas-0.10.0_20121222-py2.7-macosx-10.8-intel.egg/pandas/io/parsers.pyc\u001b[0m in \u001b[0;36mparser_f\u001b[0;34m(filepath_or_buffer, sep, dialect, compression, doublequote, escapechar, quotechar, quoting, skipinitialspace, lineterminator, header, index_col, names, prefix, skiprows, skipfooter, skip_footer, na_values, true_values, false_values, delimiter, converters, dtype, usecols, engine, delim_whitespace, as_recarray, na_filter, compact_ints, use_unsigned, low_memory, buffer_lines, warn_bad_lines, error_bad_lines, keep_default_na, thousands, comment, decimal, parse_dates, keep_date_col, dayfirst, date_parser, memory_map, nrows, iterator, chunksize, verbose, encoding, squeeze)\u001b[0m\n\u001b[1;32m    389\u001b[0m                     buffer_lines=buffer_lines)\n\u001b[1;32m    390\u001b[0m \u001b[0;34m\u001b[0m\u001b[0m\n\u001b[0;32m--> 391\u001b[0;31m         \u001b[0;32mreturn\u001b[0m \u001b[0m_read\u001b[0m\u001b[0;34m(\u001b[0m\u001b[0mfilepath_or_buffer\u001b[0m\u001b[0;34m,\u001b[0m \u001b[0mkwds\u001b[0m\u001b[0;34m)\u001b[0m\u001b[0;34m\u001b[0m\u001b[0m\n\u001b[0m\u001b[1;32m    392\u001b[0m \u001b[0;34m\u001b[0m\u001b[0m\n\u001b[1;32m    393\u001b[0m     \u001b[0mparser_f\u001b[0m\u001b[0;34m.\u001b[0m\u001b[0m__name__\u001b[0m \u001b[0;34m=\u001b[0m \u001b[0mname\u001b[0m\u001b[0;34m\u001b[0m\u001b[0m\n",
        "\u001b[0;32m/Library/Python/2.7/site-packages/pandas-0.10.0_20121222-py2.7-macosx-10.8-intel.egg/pandas/io/parsers.pyc\u001b[0m in \u001b[0;36m_read\u001b[0;34m(filepath_or_buffer, kwds)\u001b[0m\n\u001b[1;32m    198\u001b[0m \u001b[0;34m\u001b[0m\u001b[0m\n\u001b[1;32m    199\u001b[0m     \u001b[0;31m# Create the parser.\u001b[0m\u001b[0;34m\u001b[0m\u001b[0;34m\u001b[0m\u001b[0m\n\u001b[0;32m--> 200\u001b[0;31m     \u001b[0mparser\u001b[0m \u001b[0;34m=\u001b[0m \u001b[0mTextFileReader\u001b[0m\u001b[0;34m(\u001b[0m\u001b[0mfilepath_or_buffer\u001b[0m\u001b[0;34m,\u001b[0m \u001b[0;34m**\u001b[0m\u001b[0mkwds\u001b[0m\u001b[0;34m)\u001b[0m\u001b[0;34m\u001b[0m\u001b[0m\n\u001b[0m\u001b[1;32m    201\u001b[0m \u001b[0;34m\u001b[0m\u001b[0m\n\u001b[1;32m    202\u001b[0m     \u001b[0;32mif\u001b[0m \u001b[0mnrows\u001b[0m \u001b[0;32mis\u001b[0m \u001b[0;32mnot\u001b[0m \u001b[0mNone\u001b[0m\u001b[0;34m:\u001b[0m\u001b[0;34m\u001b[0m\u001b[0m\n",
        "\u001b[0;32m/Library/Python/2.7/site-packages/pandas-0.10.0_20121222-py2.7-macosx-10.8-intel.egg/pandas/io/parsers.pyc\u001b[0m in \u001b[0;36m__init__\u001b[0;34m(self, f, engine, **kwds)\u001b[0m\n\u001b[1;32m    498\u001b[0m             \u001b[0mself\u001b[0m\u001b[0;34m.\u001b[0m\u001b[0moptions\u001b[0m\u001b[0;34m[\u001b[0m\u001b[0;34m'has_index_names'\u001b[0m\u001b[0;34m]\u001b[0m \u001b[0;34m=\u001b[0m \u001b[0mkwds\u001b[0m\u001b[0;34m[\u001b[0m\u001b[0;34m'has_index_names'\u001b[0m\u001b[0;34m]\u001b[0m\u001b[0;34m\u001b[0m\u001b[0m\n\u001b[1;32m    499\u001b[0m \u001b[0;34m\u001b[0m\u001b[0m\n\u001b[0;32m--> 500\u001b[0;31m         \u001b[0mself\u001b[0m\u001b[0;34m.\u001b[0m\u001b[0m_make_engine\u001b[0m\u001b[0;34m(\u001b[0m\u001b[0mself\u001b[0m\u001b[0;34m.\u001b[0m\u001b[0mengine\u001b[0m\u001b[0;34m)\u001b[0m\u001b[0;34m\u001b[0m\u001b[0m\n\u001b[0m\u001b[1;32m    501\u001b[0m \u001b[0;34m\u001b[0m\u001b[0m\n\u001b[1;32m    502\u001b[0m     \u001b[0;32mdef\u001b[0m \u001b[0m_get_options_with_defaults\u001b[0m\u001b[0;34m(\u001b[0m\u001b[0mself\u001b[0m\u001b[0;34m,\u001b[0m \u001b[0mengine\u001b[0m\u001b[0;34m)\u001b[0m\u001b[0;34m:\u001b[0m\u001b[0;34m\u001b[0m\u001b[0m\n",
        "\u001b[0;32m/Library/Python/2.7/site-packages/pandas-0.10.0_20121222-py2.7-macosx-10.8-intel.egg/pandas/io/parsers.pyc\u001b[0m in \u001b[0;36m_make_engine\u001b[0;34m(self, engine)\u001b[0m\n\u001b[1;32m    600\u001b[0m     \u001b[0;32mdef\u001b[0m \u001b[0m_make_engine\u001b[0m\u001b[0;34m(\u001b[0m\u001b[0mself\u001b[0m\u001b[0;34m,\u001b[0m \u001b[0mengine\u001b[0m\u001b[0;34m=\u001b[0m\u001b[0;34m'c'\u001b[0m\u001b[0;34m)\u001b[0m\u001b[0;34m:\u001b[0m\u001b[0;34m\u001b[0m\u001b[0m\n\u001b[1;32m    601\u001b[0m         \u001b[0;32mif\u001b[0m \u001b[0mengine\u001b[0m \u001b[0;34m==\u001b[0m \u001b[0;34m'c'\u001b[0m\u001b[0;34m:\u001b[0m\u001b[0;34m\u001b[0m\u001b[0m\n\u001b[0;32m--> 602\u001b[0;31m             \u001b[0mself\u001b[0m\u001b[0;34m.\u001b[0m\u001b[0m_engine\u001b[0m \u001b[0;34m=\u001b[0m \u001b[0mCParserWrapper\u001b[0m\u001b[0;34m(\u001b[0m\u001b[0mself\u001b[0m\u001b[0;34m.\u001b[0m\u001b[0mf\u001b[0m\u001b[0;34m,\u001b[0m \u001b[0;34m**\u001b[0m\u001b[0mself\u001b[0m\u001b[0;34m.\u001b[0m\u001b[0moptions\u001b[0m\u001b[0;34m)\u001b[0m\u001b[0;34m\u001b[0m\u001b[0m\n\u001b[0m\u001b[1;32m    603\u001b[0m         \u001b[0;32melse\u001b[0m\u001b[0;34m:\u001b[0m\u001b[0;34m\u001b[0m\u001b[0m\n\u001b[1;32m    604\u001b[0m             \u001b[0;32mif\u001b[0m \u001b[0mengine\u001b[0m \u001b[0;34m==\u001b[0m \u001b[0;34m'python'\u001b[0m\u001b[0;34m:\u001b[0m\u001b[0;34m\u001b[0m\u001b[0m\n",
        "\u001b[0;32m/Library/Python/2.7/site-packages/pandas-0.10.0_20121222-py2.7-macosx-10.8-intel.egg/pandas/io/parsers.pyc\u001b[0m in \u001b[0;36m__init__\u001b[0;34m(self, src, **kwds)\u001b[0m\n\u001b[1;32m    879\u001b[0m         \u001b[0;31m# #2442\u001b[0m\u001b[0;34m\u001b[0m\u001b[0;34m\u001b[0m\u001b[0m\n\u001b[1;32m    880\u001b[0m         \u001b[0mkwds\u001b[0m\u001b[0;34m[\u001b[0m\u001b[0;34m'allow_leading_cols'\u001b[0m\u001b[0;34m]\u001b[0m \u001b[0;34m=\u001b[0m \u001b[0mself\u001b[0m\u001b[0;34m.\u001b[0m\u001b[0mindex_col\u001b[0m \u001b[0;32mis\u001b[0m \u001b[0;32mnot\u001b[0m \u001b[0mFalse\u001b[0m\u001b[0;34m\u001b[0m\u001b[0m\n\u001b[0;32m--> 881\u001b[0;31m         \u001b[0mself\u001b[0m\u001b[0;34m.\u001b[0m\u001b[0m_reader\u001b[0m \u001b[0;34m=\u001b[0m \u001b[0m_parser\u001b[0m\u001b[0;34m.\u001b[0m\u001b[0mTextReader\u001b[0m\u001b[0;34m(\u001b[0m\u001b[0msrc\u001b[0m\u001b[0;34m,\u001b[0m \u001b[0;34m**\u001b[0m\u001b[0mkwds\u001b[0m\u001b[0;34m)\u001b[0m\u001b[0;34m\u001b[0m\u001b[0m\n\u001b[0m\u001b[1;32m    882\u001b[0m \u001b[0;34m\u001b[0m\u001b[0m\n\u001b[1;32m    883\u001b[0m         \u001b[0;31m# XXX\u001b[0m\u001b[0;34m\u001b[0m\u001b[0;34m\u001b[0m\u001b[0m\n",
        "\u001b[0;32m/Library/Python/2.7/site-packages/pandas-0.10.0_20121222-py2.7-macosx-10.8-intel.egg/pandas/_parser.so\u001b[0m in \u001b[0;36mpandas._parser.TextReader.__cinit__ (pandas/src/parser.c:2737)\u001b[0;34m()\u001b[0m\n",
        "\u001b[0;32m/Library/Python/2.7/site-packages/pandas-0.10.0_20121222-py2.7-macosx-10.8-intel.egg/pandas/_parser.so\u001b[0m in \u001b[0;36mpandas._parser.TextReader._setup_parser_source (pandas/src/parser.c:4717)\u001b[0;34m()\u001b[0m\n",
        "\u001b[0;31mException\u001b[0m: File Train_rev1.csv does not exist"
       ]
      }
     ],
     "prompt_number": 148
    },
    {
     "cell_type": "code",
     "collapsed": false,
     "input": [
      "hist = getCounts(ld)\n",
      "#new = [(i,hist[i]) for i in hist.keys() if hist[i] > 40]\n",
      "\n",
      "#print len(hist)\n",
      "#print new"
     ],
     "language": "python",
     "metadata": {},
     "outputs": [
      {
       "output_type": "stream",
       "stream": "stdout",
       "text": [
        "5114\n",
        "[('limited', 50), ('surrounding', 74), ('dynamic', 42), ('facilities', 46), ('relationships', 52), ('looking', 859), ('eligible', 45), ('risk', 57), ('desirable', 114), ('homes', 331), ('progression', 85), ('skills', 480), ('companies', 52), ('enjoy', 70), ('pulse', 277), ('chef', 255), ('established', 78), ('new', 251), ('specialist', 82), ('met', 77), ('active', 92), ('100', 43), ('reports', 42), ('fantastic', 119), ('highly', 97), ('unit', 139), ('hospital', 96), ('call', 87), ('therefore', 63), ('assessment', 60), ('award', 64), ('excellent', 501), ('hold', 97), ('companys', 51), ('must', 483), ('join', 287), ('work', 1200), ('already', 46), ('references', 42), ('involve', 44), ('want', 75), ('preferably', 41), ('provide', 397), ('travel', 113), ('effective', 76), ('maintain', 157), ('order', 64), ('office', 58), ('london', 81), ('residents', 433), ('personal', 203), ('hertfordshire', 41), ('bank', 74), ('independent', 56), ('ward', 54), ('driving', 76), ('independence', 57), ('free', 164), ('standard', 79), ('days', 160), ('service', 589), ('top', 65), ('recruiting', 211), ('needed', 48), ('rates', 220), ('guidelines', 48), ('roles', 41), ('older', 47), ('rate', 54), ('project', 63), ('devon', 44), ('willingness', 58), ('manner', 47), ('genuine', 48), ('responsible', 238), ('contact', 183), ('even', 63), ('assisting', 62), ('medical', 45), ('reputation', 98), ('meetings', 61), ('participate', 52), ('busy', 131), ('weekends', 125), ('de', 173), ('report', 47), ('covering', 66), ('activities', 100), ('best', 173), ('subject', 57), ('however', 58), ('packages', 46), ('kitchen', 60), ('basis', 104), ('interest', 50), ('basic', 52), ('expected', 72), ('flexible', 259), ('lovely', 42), ('duties', 198), ('life', 101), ('families', 50), ('worker', 378), ('aim', 42), ('eden', 100), ('make', 86), ('complex', 132), ('qualifications', 88), ('opportunity', 328), ('centred', 67), ('client', 553), ('centres', 46), ('previous', 223), ('candidate', 359), ('equipment', 79), ('pharmacy', 61), ('prison', 48), ('east', 71), ('dignity', 54), ('background', 69), ('desire', 65), ('night', 137), ('people', 445), ('elderly', 403), ('consultants', 76), ('individuals', 88), ('marketing', 41), ('post', 233), ('months', 121), ('ensure', 264), ('managers', 92), ('right', 100), ('support', 1088), ('clinical', 259), ('calm', 42), ('head', 59), ('medium', 64), ('offering', 98), ('offer', 334), ('annum', 106), ('hear', 50), ('patient', 48), ('evidence', 43), ('check', 73), ('successful', 388), ('interested', 179), ('role', 890), ('mechanical', 55), ('weekend', 46), ('time', 335), ('manager', 1183), ('environment', 247), ('charge', 53), ('level', 265), ('standards', 254), ('planning', 76), ('team', 823), ('assistance', 48), ('current', 117), ('staff', 648), ('supporting', 119), ('understanding', 99), ('along', 61), ('change', 41), ('shift', 82), ('tasks', 59), ('love', 53), ('1st', 48), ('market', 75), ('working', 965), ('positive', 48), ('live', 138), ('behalf', 121), ('car', 145), ('growing', 70), ('dedicated', 161), ('nursing', 1179), ('requirements', 216), ('sunday', 51), ('may', 84), ('applications', 56), ('date', 42), ('sectors', 44), ('applicant', 62), ('years', 247), ('group', 129), ('rosette', 45), ('organisation', 97), ('yorkshire', 90), ('offers', 66), ('policy', 43), ('main', 53), ('qualified', 266), ('maintaining', 42), ('term', 53), ('equality', 60), ('assistants', 88), ('wellness', 70), ('year', 41), ('living', 148), ('kent', 60), ('state', 42), ('accommodation', 57), ('care', 3034), ('training', 501), ('first', 72), ('revenue', 72), ('one', 181), ('carry', 49), ('engineer', 123), ('wide', 81), ('accordance', 57), ('require', 109), ('recruit', 295), ('ideal', 91), ('potential', 54), ('take', 149), ('performance', 44), ('registered', 521), ('theatre', 51), ('track', 48), ('paid', 61), ('bluebird', 59), ('appraisals', 61), ('considered', 70), ('drive', 62), ('professional', 258), ('senior', 265), ('title', 120), ('assistant', 175), ('attitude', 47), ('managing', 94), ('review', 50), ('seekers', 68), ('outside', 45), ('across', 100), ('jobs', 162), ('many', 50), ('allowance', 55), ('duty', 51), ('medication', 129), ('learning', 164), ('caring', 114), ('west', 143), ('offered', 46), ('external', 44), ('developing', 61), ('consultant', 59), ('ongoing', 125), ('policies', 64), ('motivated', 101), ('different', 73), ('develop', 100), ('shifts', 208), ('week', 182), ('assist', 160), ('driver', 42), ('driven', 50), ('running', 91), ('touch', 88), ('setting', 111), ('perth', 41), ('treatment', 50), ('real', 51), ('aspects', 95), ('around', 93), ('benefit', 43), ('always', 86), ('click', 287), ('users', 79), ('provided', 105), ('provides', 100), ('provider', 176), ('business', 238), ('leadership', 96), ('exciting', 89), ('package', 109), ('industry', 93), ('act', 86), ('communication', 177), ('area', 299), ('start', 50), ('complete', 64), ('applying', 44), ('sales', 149), ('general', 294), ('daily', 78), ('ideally', 184), ('valid', 64), ('evenings', 71), ('requested', 58), ('includes', 52), ('building', 43), ('disabilities', 142), ('children', 155), ('opportunities', 244), ('arisen', 42), ('health', 437), ('large', 135), ('small', 80), ('programme', 50), ('design', 158), ('nurse', 975), ('full', 382), ('hours', 416), ('strong', 214), ('search', 61), ('compliance', 50), ('experience', 1345), ('family', 113), ('two', 67), ('resident', 63), ('possible', 73), ('company', 264), ('hour', 266), ('learn', 49), ('beautiful', 48), ('challenging', 82), ('minimum', 157), ('information', 240), ('needs', 376), ('plans', 121), ('supervision', 93), ('responsibility', 75), ('pay', 313), ('help', 130), ('committed', 150), ('systems', 81), ('good', 280), ('return', 182), ('seeking', 161), ('food', 118), ('instructions', 44), ('fully', 45), ('someone', 46), ('mental', 190), ('undertake', 61), ('acting', 53), ('safety', 62), ('members', 61), ('benefits', 257), ('brown', 100), ('feel', 51), ('number', 165), ('welcome', 44), ('leading', 160), ('least', 122), ('scheme', 81), ('hotel', 71), ('immediate', 44), ('part', 346), ('alongside', 47), ('nights', 125), ('scotland', 54), ('majority', 51), ('frail', 44), ('experienced', 432), ('plan', 59), ('services', 283), ('salary', 364), ('clear', 119), ('cover', 86), ('joining', 43), ('surrey', 78), ('relation', 55), ('find', 56), ('closely', 41), ('set', 56), ('individual', 146), ('currently', 266), ('please', 634), ('various', 62), ('conditions', 46), ('available', 256), ('restaurant', 82), ('patients', 117), ('throughout', 100), ('due', 64), ('look', 70), ('development', 322), ('bonus', 62), ('holidays', 48), ('levels', 106), ('recent', 47), ('analysis', 52), ('person', 115), ('competitive', 103), ('using', 48), ('also', 259), ('workers', 330), ('location', 157), ('customers', 88), ('projects', 74), ('essential', 331), ('either', 71), ('run', 50), ('professionals', 78), ('passionate', 120), ('proven', 67), ('range', 126), ('regular', 64), ('disclosure', 97), ('within', 1040), ('appropriate', 91), ('long', 89), ('suit', 50), ('forward', 113), ('line', 94), ('junior', 41), ('posted', 46), ('social', 331), ('us', 161), ('today', 439), ('uk', 288), ('similar', 69), ('adults', 129), ('coordinator', 63), ('engineering', 114), ('application', 98), ('regulations', 45), ('meals', 49), ('independently', 50), ('required', 599), ('fresh', 61), ('requires', 81), ('sector', 111), ('issues', 61), ('young', 96), ('send', 94), ('include', 242), ('friendly', 73), ('positions', 94), ('originally', 49), ('recruitment', 423), ('expense', 83), ('assisted', 62), ('access', 128), ('equivalent', 54), ('degree', 42), ('delivering', 89), ('following', 131), ('focused', 49), ('licence', 45), ('great', 141), ('technical', 90), ('deputy', 151), ('manage', 117), ('private', 98), ('apply', 577), ('use', 81), ('process', 86), ('customer', 122), ('challenge', 61), ('clients', 333), ('meet', 53), ('control', 52), ('high', 315), ('effectively', 67), ('purpose', 46), ('located', 54), ('responsibilities', 96), ('establishment', 48), ('preferred', 43), ('physical', 55), ('healthcare', 558), ('including', 309), ('permanent', 94), ('commitment', 139), ('day', 255), ('applicants', 196), ('enviable', 46), ('related', 55), ('ref', 62), ('times', 113), ('keen', 51), ('qualification', 163), ('south', 92), ('quality', 312), ('management', 462), ('providing', 234), ('need', 292), ('dementia', 248), ('mandatory', 59), ('agency', 87), ('able', 204), ('mileage', 66), ('centre', 105), ('plus', 63), ('enthusiastic', 63), ('selection', 106), ('supported', 66), ('vacancy', 69), ('manchester', 75), ('based', 251), ('knowledge', 217), ('employer', 103), ('candidates', 315), ('local', 134), ('achieve', 84), ('community', 329), ('procedures', 89), ('areas', 195), ('approach', 122), ('conduct', 45), ('national', 71), ('enhanced', 136), ('written', 48), ('progress', 60), ('email', 63), ('ability', 247), ('deliver', 102), ('job', 779), ('key', 96), ('career', 226), ('taking', 44), ('equal', 87), ('relevant', 107), ('cv', 172), ('willing', 59), ('ensuring', 139), ('assessments', 74), ('administration', 43), ('practice', 89), ('caters', 43), ('records', 71), ('well', 269), ('position', 269), ('domestic', 52), ('residential', 261), ('necessary', 53), ('like', 143), ('workplace', 44), ('sized', 55), ('home', 1797), ('employment', 118), ('transport', 81), ('lead', 167), ('passion', 128), ('leader', 66), ('software', 73), ('registration', 129), ('north', 85), ('delivery', 69), ('highest', 70), ('domiciliary', 55), ('record', 69), ('demonstrate', 85), ('display', 54), ('pin', 102), ('nurses', 290), ('variety', 109), ('details', 46), ('branch', 42), ('chance', 54), ('parttime', 46), ('pension', 49)]\n"
       ]
      }
     ],
     "prompt_number": 141
    },
    {
     "cell_type": "code",
     "collapsed": false,
     "input": [
      "import matplotlib.pyplot as plt\n",
      "\n",
      "values = hist.values()\n",
      "#values = [v for v in values if v > 100]\n",
      "\n",
      "plt.figure(figsize=(16,8))\n",
      "plt.hist(values,bins=50)"
     ],
     "language": "python",
     "metadata": {},
     "outputs": [
      {
       "output_type": "pyout",
       "prompt_number": 147,
       "text": [
        "(array([4738,  198,   61,   22,   37,   18,    8,    8,    3,    5,    2,\n",
        "          0,    1,    1,    2,    1,    1,    2,    0,    3,    0,    0,\n",
        "          1,    0,    0,    0,    0,    0,    0,    1,    0,    0,    0,\n",
        "          0,    0,    0,    0,    0,    0,    0,    0,    0,    0,    0,\n",
        "          0,    0,    0,    0,    0,    1]),\n",
        " array([  1.00000000e+00,   6.16600000e+01,   1.22320000e+02,\n",
        "         1.82980000e+02,   2.43640000e+02,   3.04300000e+02,\n",
        "         3.64960000e+02,   4.25620000e+02,   4.86280000e+02,\n",
        "         5.46940000e+02,   6.07600000e+02,   6.68260000e+02,\n",
        "         7.28920000e+02,   7.89580000e+02,   8.50240000e+02,\n",
        "         9.10900000e+02,   9.71560000e+02,   1.03222000e+03,\n",
        "         1.09288000e+03,   1.15354000e+03,   1.21420000e+03,\n",
        "         1.27486000e+03,   1.33552000e+03,   1.39618000e+03,\n",
        "         1.45684000e+03,   1.51750000e+03,   1.57816000e+03,\n",
        "         1.63882000e+03,   1.69948000e+03,   1.76014000e+03,\n",
        "         1.82080000e+03,   1.88146000e+03,   1.94212000e+03,\n",
        "         2.00278000e+03,   2.06344000e+03,   2.12410000e+03,\n",
        "         2.18476000e+03,   2.24542000e+03,   2.30608000e+03,\n",
        "         2.36674000e+03,   2.42740000e+03,   2.48806000e+03,\n",
        "         2.54872000e+03,   2.60938000e+03,   2.67004000e+03,\n",
        "         2.73070000e+03,   2.79136000e+03,   2.85202000e+03,\n",
        "         2.91268000e+03,   2.97334000e+03,   3.03400000e+03]),\n",
        " <a list of 50 Patch objects>)"
       ]
      },
      {
       "output_type": "display_data",
       "png": "[encoded data removed]",
       "text": [
        "<matplotlib.figure.Figure at 0x112d7a090>"
       ]
      }
     ],
     "prompt_number": 147
    },
    {
     "cell_type": "code",
     "collapsed": false,
     "input": [],
     "language": "python",
     "metadata": {},
     "outputs": [],
     "prompt_number": 28
    },
    {
     "cell_type": "code",
     "collapsed": false,
     "input": [],
     "language": "python",
     "metadata": {},
     "outputs": []
    }
   ],
   "metadata": {}
  }
 ]
}